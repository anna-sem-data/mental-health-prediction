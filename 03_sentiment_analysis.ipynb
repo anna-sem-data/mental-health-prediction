{
 "cells": [
  {
   "cell_type": "markdown",
   "id": "c663b37e-0cbc-49ee-9826-08564dee9601",
   "metadata": {},
   "source": [
    "# Sentiment Analysis"
   ]
  },
  {
   "cell_type": "markdown",
   "id": "9588a558-e47a-4c8c-bb2a-33436eb1110c",
   "metadata": {},
   "source": [
    "Sentiment analysis helps us understand the emotional tone of statements and explore how sentiment relates to other features like text length, word count, and keyword usage. We used VADER, because it is optimized for analyzing sentiment in short, informal texts, making it well-suited for conversational language and social media-style statements, to assign a sentiment score and classify statements as Positive, Neutral, or Negative.\n",
    "\n",
    "Key Objectives:\n",
    "\n",
    "Identify Emotional Tone – Categorize statements to see if negative sentiment is more common.\n",
    "\n",
    "Analyze Trends – Understand how sentiment varies across the dataset.\n",
    "\n",
    "Correlate Sentiment with Other Features – Check if longer texts or certain words are linked to sentiment shifts.\n",
    "\n",
    "Prepare Data for Modeling – Use sentiment categories as features for predictive models.\n",
    "\n",
    "Detect Emotional Patterns – Identify emotionally charged language that may indicate mental health concerns.\n",
    "\n",
    "This analysis provides insights into sentiment distribution and helps prepare data for further exploration and modeling."
   ]
  },
  {
   "cell_type": "code",
   "execution_count": 3,
   "id": "a517df91-adf3-4a00-bf45-b936eb572e4b",
   "metadata": {},
   "outputs": [
    {
     "name": "stderr",
     "output_type": "stream",
     "text": [
      "[nltk_data] Downloading package vader_lexicon to\n",
      "[nltk_data]     /home/jovyan/nltk_data...\n",
      "[nltk_data]   Package vader_lexicon is already up-to-date!\n"
     ]
    },
    {
     "name": "stdout",
     "output_type": "stream",
     "text": [
      "Sentiment analysis complete! New dataset saved as 'sentiment_data.csv'.\n"
     ]
    },
    {
     "data": {
      "text/html": [
       "<div>\n",
       "<style scoped>\n",
       "    .dataframe tbody tr th:only-of-type {\n",
       "        vertical-align: middle;\n",
       "    }\n",
       "\n",
       "    .dataframe tbody tr th {\n",
       "        vertical-align: top;\n",
       "    }\n",
       "\n",
       "    .dataframe thead th {\n",
       "        text-align: right;\n",
       "    }\n",
       "</style>\n",
       "<table border=\"1\" class=\"dataframe\">\n",
       "  <thead>\n",
       "    <tr style=\"text-align: right;\">\n",
       "      <th></th>\n",
       "      <th>statement</th>\n",
       "      <th>status</th>\n",
       "      <th>sentiment_score</th>\n",
       "      <th>sentiment_category</th>\n",
       "    </tr>\n",
       "  </thead>\n",
       "  <tbody>\n",
       "    <tr>\n",
       "      <th>0</th>\n",
       "      <td>oh my gosh</td>\n",
       "      <td>Anxiety</td>\n",
       "      <td>0.0000</td>\n",
       "      <td>Neutral</td>\n",
       "    </tr>\n",
       "    <tr>\n",
       "      <th>1</th>\n",
       "      <td>trouble sleeping confused mind restless heart ...</td>\n",
       "      <td>Anxiety</td>\n",
       "      <td>-0.7269</td>\n",
       "      <td>Negative</td>\n",
       "    </tr>\n",
       "    <tr>\n",
       "      <th>2</th>\n",
       "      <td>all wrong back off dear forward doubt stay in ...</td>\n",
       "      <td>Anxiety</td>\n",
       "      <td>-0.7351</td>\n",
       "      <td>Negative</td>\n",
       "    </tr>\n",
       "    <tr>\n",
       "      <th>3</th>\n",
       "      <td>ive shifted my focus to something else but im ...</td>\n",
       "      <td>Anxiety</td>\n",
       "      <td>-0.4215</td>\n",
       "      <td>Negative</td>\n",
       "    </tr>\n",
       "    <tr>\n",
       "      <th>4</th>\n",
       "      <td>im restless and restless its been a month now ...</td>\n",
       "      <td>Anxiety</td>\n",
       "      <td>-0.4939</td>\n",
       "      <td>Negative</td>\n",
       "    </tr>\n",
       "  </tbody>\n",
       "</table>\n",
       "</div>"
      ],
      "text/plain": [
       "                                           statement   status  \\\n",
       "0                                         oh my gosh  Anxiety   \n",
       "1  trouble sleeping confused mind restless heart ...  Anxiety   \n",
       "2  all wrong back off dear forward doubt stay in ...  Anxiety   \n",
       "3  ive shifted my focus to something else but im ...  Anxiety   \n",
       "4  im restless and restless its been a month now ...  Anxiety   \n",
       "\n",
       "   sentiment_score sentiment_category  \n",
       "0           0.0000            Neutral  \n",
       "1          -0.7269           Negative  \n",
       "2          -0.7351           Negative  \n",
       "3          -0.4215           Negative  \n",
       "4          -0.4939           Negative  "
      ]
     },
     "execution_count": 3,
     "metadata": {},
     "output_type": "execute_result"
    }
   ],
   "source": [
    "import pandas as pd\n",
    "from nltk.sentiment import SentimentIntensityAnalyzer\n",
    "import nltk\n",
    "\n",
    "# Ensure VADER is available\n",
    "nltk.download('vader_lexicon')\n",
    "\n",
    "# Initialize Sentiment Intensity Analyzer\n",
    "sia = SentimentIntensityAnalyzer()\n",
    "\n",
    "# Load the cleaned dataset\n",
    "file_path = \"cleaned_data.csv\"  # Update with actual path\n",
    "df = pd.read_csv(file_path)\n",
    "\n",
    "# Ensure all statements are treated as strings\n",
    "df[\"statement\"] = df[\"statement\"].astype(str)\n",
    "\n",
    "# Apply VADER sentiment analysis safely\n",
    "df[\"sentiment_score\"] = df[\"statement\"].apply(lambda x: sia.polarity_scores(x)[\"compound\"] if isinstance(x, str) else 0)\n",
    "\n",
    "# Categorize sentiment based on score\n",
    "def categorize_sentiment(score):\n",
    "    if score >= 0.05:\n",
    "        return \"Positive\"\n",
    "    elif score <= -0.05:\n",
    "        return \"Negative\"\n",
    "    else:\n",
    "        return \"Neutral\"\n",
    "\n",
    "df[\"sentiment_category\"] = df[\"sentiment_score\"].apply(categorize_sentiment)\n",
    "\n",
    "# Save the dataset with sentiment scores and categories\n",
    "sentiment_file_path = \"sentiment_data.csv\"\n",
    "df.to_csv(sentiment_file_path, index=False)\n",
    "\n",
    "# Print confirmation message\n",
    "print(f\"Sentiment analysis complete! New dataset saved as '{sentiment_file_path}'.\")\n",
    "\n",
    "# Display first few rows\n",
    "df.head()"
   ]
  },
  {
   "cell_type": "code",
   "execution_count": null,
   "id": "6c209aa7-0194-4d31-a4a1-83ecdc20e5f4",
   "metadata": {},
   "outputs": [],
   "source": []
  }
 ],
 "metadata": {
  "kernelspec": {
   "display_name": "Python 3 (ipykernel)",
   "language": "python",
   "name": "python3"
  },
  "language_info": {
   "codemirror_mode": {
    "name": "ipython",
    "version": 3
   },
   "file_extension": ".py",
   "mimetype": "text/x-python",
   "name": "python",
   "nbconvert_exporter": "python",
   "pygments_lexer": "ipython3",
   "version": "3.12.4"
  }
 },
 "nbformat": 4,
 "nbformat_minor": 5
}
