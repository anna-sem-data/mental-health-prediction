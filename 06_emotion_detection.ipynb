{
 "cells": [
  {
   "cell_type": "markdown",
   "id": "9dbc9fd3-cd41-49c1-997b-3b78604aa789",
   "metadata": {},
   "source": [
    "# Emotion Detection Using NLP (RoBERTa)"
   ]
  },
  {
   "cell_type": "markdown",
   "id": "c9e5b7cb-fdc3-4619-a5bd-e78ce2b1a784",
   "metadata": {},
   "source": [
    "Now that Exploratory Data Analysis (EDA) is complete, we have a better understanding of sentiment distribution, text characteristics, and keyword usage in the dataset. However, sentiment analysis alone only classifies statements as positive, neutral, or negative, which may not capture the full emotional depth of the text.\n",
    "\n",
    "To enhance our insights, we are now using RoBERTa for emotion detection to extract specific emotions like joy, sadness, anger, and fear. This step happens after EDA because we now know how sentiment correlates with other features, and we can use emotion labels as a new feature to improve later predictive modeling. By setting a 95% confidence threshold, we ensure that only highly reliable predictions are used."
   ]
  },
  {
   "cell_type": "code",
   "execution_count": 14,
   "id": "42dc7ba8-f2b3-467d-af83-3a261b4c78ee",
   "metadata": {},
   "outputs": [
    {
     "name": "stdout",
     "output_type": "stream",
     "text": [
      "Requirement already satisfied: pandas in c:\\users\\annas\\anaconda3\\lib\\site-packages (2.2.2)\n",
      "Requirement already satisfied: transformers in c:\\users\\annas\\anaconda3\\lib\\site-packages (4.49.0)\n",
      "Requirement already satisfied: torch in c:\\users\\annas\\anaconda3\\lib\\site-packages (2.6.0)\n",
      "Requirement already satisfied: numpy>=1.26.0 in c:\\users\\annas\\anaconda3\\lib\\site-packages (from pandas) (1.26.4)\n",
      "Requirement already satisfied: python-dateutil>=2.8.2 in c:\\users\\annas\\anaconda3\\lib\\site-packages (from pandas) (2.9.0.post0)\n",
      "Requirement already satisfied: pytz>=2020.1 in c:\\users\\annas\\anaconda3\\lib\\site-packages (from pandas) (2024.1)\n",
      "Requirement already satisfied: tzdata>=2022.7 in c:\\users\\annas\\anaconda3\\lib\\site-packages (from pandas) (2023.3)\n",
      "Requirement already satisfied: filelock in c:\\users\\annas\\anaconda3\\lib\\site-packages (from transformers) (3.13.1)\n",
      "Requirement already satisfied: huggingface-hub<1.0,>=0.26.0 in c:\\users\\annas\\anaconda3\\lib\\site-packages (from transformers) (0.29.2)\n",
      "Requirement already satisfied: packaging>=20.0 in c:\\users\\annas\\anaconda3\\lib\\site-packages (from transformers) (23.2)\n",
      "Requirement already satisfied: pyyaml>=5.1 in c:\\users\\annas\\anaconda3\\lib\\site-packages (from transformers) (6.0.1)\n",
      "Requirement already satisfied: regex!=2019.12.17 in c:\\users\\annas\\anaconda3\\lib\\site-packages (from transformers) (2023.10.3)\n",
      "Requirement already satisfied: requests in c:\\users\\annas\\anaconda3\\lib\\site-packages (from transformers) (2.32.2)\n",
      "Requirement already satisfied: tokenizers<0.22,>=0.21 in c:\\users\\annas\\anaconda3\\lib\\site-packages (from transformers) (0.21.0)\n",
      "Requirement already satisfied: safetensors>=0.4.1 in c:\\users\\annas\\anaconda3\\lib\\site-packages (from transformers) (0.5.3)\n",
      "Requirement already satisfied: tqdm>=4.27 in c:\\users\\annas\\anaconda3\\lib\\site-packages (from transformers) (4.66.4)\n",
      "Requirement already satisfied: typing-extensions>=4.10.0 in c:\\users\\annas\\anaconda3\\lib\\site-packages (from torch) (4.11.0)\n",
      "Requirement already satisfied: networkx in c:\\users\\annas\\anaconda3\\lib\\site-packages (from torch) (3.2.1)\n",
      "Requirement already satisfied: jinja2 in c:\\users\\annas\\anaconda3\\lib\\site-packages (from torch) (3.1.4)\n",
      "Requirement already satisfied: fsspec in c:\\users\\annas\\anaconda3\\lib\\site-packages (from torch) (2024.3.1)\n",
      "Requirement already satisfied: setuptools in c:\\users\\annas\\anaconda3\\lib\\site-packages (from torch) (69.5.1)\n",
      "Requirement already satisfied: sympy==1.13.1 in c:\\users\\annas\\anaconda3\\lib\\site-packages (from torch) (1.13.1)\n",
      "Requirement already satisfied: mpmath<1.4,>=1.1.0 in c:\\users\\annas\\anaconda3\\lib\\site-packages (from sympy==1.13.1->torch) (1.3.0)\n",
      "Requirement already satisfied: six>=1.5 in c:\\users\\annas\\anaconda3\\lib\\site-packages (from python-dateutil>=2.8.2->pandas) (1.16.0)\n",
      "Requirement already satisfied: colorama in c:\\users\\annas\\anaconda3\\lib\\site-packages (from tqdm>=4.27->transformers) (0.4.6)\n",
      "Requirement already satisfied: MarkupSafe>=2.0 in c:\\users\\annas\\anaconda3\\lib\\site-packages (from jinja2->torch) (2.1.3)\n",
      "Requirement already satisfied: charset-normalizer<4,>=2 in c:\\users\\annas\\anaconda3\\lib\\site-packages (from requests->transformers) (2.0.4)\n",
      "Requirement already satisfied: idna<4,>=2.5 in c:\\users\\annas\\anaconda3\\lib\\site-packages (from requests->transformers) (3.7)\n",
      "Requirement already satisfied: urllib3<3,>=1.21.1 in c:\\users\\annas\\anaconda3\\lib\\site-packages (from requests->transformers) (2.2.2)\n",
      "Requirement already satisfied: certifi>=2017.4.17 in c:\\users\\annas\\anaconda3\\lib\\site-packages (from requests->transformers) (2024.8.30)\n",
      "Requirement already satisfied: requests in c:\\users\\annas\\anaconda3\\lib\\site-packages (2.32.2)\n",
      "Collecting requests\n",
      "  Downloading requests-2.32.3-py3-none-any.whl.metadata (4.6 kB)\n",
      "Requirement already satisfied: charset-normalizer<4,>=2 in c:\\users\\annas\\anaconda3\\lib\\site-packages (from requests) (2.0.4)\n",
      "Requirement already satisfied: idna<4,>=2.5 in c:\\users\\annas\\anaconda3\\lib\\site-packages (from requests) (3.7)\n",
      "Requirement already satisfied: urllib3<3,>=1.21.1 in c:\\users\\annas\\anaconda3\\lib\\site-packages (from requests) (2.2.2)\n",
      "Requirement already satisfied: certifi>=2017.4.17 in c:\\users\\annas\\anaconda3\\lib\\site-packages (from requests) (2024.8.30)\n",
      "Downloading requests-2.32.3-py3-none-any.whl (64 kB)\n",
      "   ---------------------------------------- 0.0/64.9 kB ? eta -:--:--\n",
      "   ------ --------------------------------- 10.2/64.9 kB ? eta -:--:--\n",
      "   ------ --------------------------------- 10.2/64.9 kB ? eta -:--:--\n",
      "   ------------------ --------------------- 30.7/64.9 kB 220.2 kB/s eta 0:00:01\n",
      "   ------------------------------------- -- 61.4/64.9 kB 365.7 kB/s eta 0:00:01\n",
      "   ---------------------------------------- 64.9/64.9 kB 350.6 kB/s eta 0:00:00\n",
      "Installing collected packages: requests\n",
      "  Attempting uninstall: requests\n",
      "    Found existing installation: requests 2.32.2\n",
      "    Uninstalling requests-2.32.2:\n",
      "      Successfully uninstalled requests-2.32.2\n",
      "Successfully installed requests-2.32.3\n"
     ]
    }
   ],
   "source": [
    "!pip install pandas transformers torch\n",
    "!pip install --upgrade requests\n",
    "import pandas as pd\n",
    "import re"
   ]
  },
  {
   "cell_type": "code",
   "execution_count": 18,
   "id": "f643c1a7-6254-406f-946d-8054bf13bd07",
   "metadata": {},
   "outputs": [
    {
     "data": {
      "application/vnd.jupyter.widget-view+json": {
       "model_id": "7aaca63d1094427d8257154fb7a4576c",
       "version_major": 2,
       "version_minor": 0
      },
      "text/plain": [
       "pytorch_model.bin:   0%|          | 0.00/329M [00:00<?, ?B/s]"
      ]
     },
     "metadata": {},
     "output_type": "display_data"
    },
    {
     "name": "stdout",
     "output_type": "stream",
     "text": [
      "This model is able to detect 7 emotions:\n",
      "anger\n",
      "disgust\n",
      "fear\n",
      "joy\n",
      "neutral\n",
      "sadness\n",
      "surprise\n"
     ]
    }
   ],
   "source": [
    "from transformers import AutoTokenizer, AutoModelForSequenceClassification\n",
    "\n",
    "# Define the model name for a model that detects more emotions\n",
    "model_name = \"j-hartmann/emotion-english-distilroberta-base\"\n",
    "\n",
    "# Use the slow tokenizer and force PyTorch weights (avoid safetensors)\n",
    "tokenizer = AutoTokenizer.from_pretrained(model_name, use_fast=False)\n",
    "model = AutoModelForSequenceClassification.from_pretrained(model_name, use_safetensors=False)\n",
    "\n",
    "# Automatically extract the available labels from the model's configuration\n",
    "id2label = model.config.id2label  # Dictionary mapping label ids to emotion names\n",
    "emotions = list(id2label.values())\n",
    "\n",
    "print(\"This model is able to detect\", len(emotions), \"emotions:\")\n",
    "for emotion in emotions:\n",
    "    print(emotion)\n"
   ]
  },
  {
   "cell_type": "code",
   "execution_count": 20,
   "id": "3ad1ede0-5bab-4566-a5c0-ce61f3d9764b",
   "metadata": {},
   "outputs": [
    {
     "name": "stderr",
     "output_type": "stream",
     "text": [
      "Device set to use cpu\n"
     ]
    },
    {
     "data": {
      "application/vnd.jupyter.widget-view+json": {
       "model_id": "8cf40856d4774ca398c0e06f855696be",
       "version_major": 2,
       "version_minor": 0
      },
      "text/plain": [
       "model.safetensors:   0%|          | 0.00/329M [00:00<?, ?B/s]"
      ]
     },
     "metadata": {},
     "output_type": "display_data"
    },
    {
     "name": "stdout",
     "output_type": "stream",
     "text": [
      "Processing complete. The output has been saved to emotion_output.csv\n"
     ]
    }
   ],
   "source": [
    "import pandas as pd\n",
    "from transformers import AutoTokenizer, AutoModelForSequenceClassification, pipeline\n",
    "\n",
    "# Define the model name for a model that detects more emotions\n",
    "model_name = \"j-hartmann/emotion-english-distilroberta-base\"\n",
    "\n",
    "# Use the slow tokenizer and force PyTorch weights (avoid safetensors)\n",
    "tokenizer = AutoTokenizer.from_pretrained(model_name, use_fast=False)\n",
    "model = AutoModelForSequenceClassification.from_pretrained(model_name, use_safetensors=False)\n",
    "\n",
    "# Create a pipeline for text classification with truncation enabled\n",
    "emotion_classifier = pipeline(\n",
    "    \"text-classification\",\n",
    "    model=model,\n",
    "    tokenizer=tokenizer,\n",
    "    top_k=None,       # Return scores for all labels\n",
    "    truncation=True,  # Enable truncation for texts longer than the model's max length\n",
    "    max_length=512    # Set the maximum sequence length\n",
    ")\n",
    "\n",
    "# Load your CSV dataset (ensure the CSV file is in your working directory or provide the correct path)\n",
    "csv_file = \"feature_engineered_data.csv\"\n",
    "df = pd.read_csv(csv_file)\n",
    "\n",
    "# Check if the 'statement' column exists; adjust the column name if needed.\n",
    "if 'statement' not in df.columns:\n",
    "    raise ValueError(\"The CSV file must contain a column named 'statement'.\")\n",
    "\n",
    "# Define a function to classify the emotion in a statement with a 95% confidence threshold\n",
    "def classify_emotion(text):\n",
    "    # Ensure the text is a string; handle missing or non-string values.\n",
    "    if not isinstance(text, str):\n",
    "        text = str(text)\n",
    "    if text.strip() == \"\":\n",
    "        return \"Uncertain\"\n",
    "    \n",
    "    # Get the scores for each emotion for the input text.\n",
    "    result = emotion_classifier(text)\n",
    "    # Expecting a list containing one list of score dictionaries.\n",
    "    scores = result[0] if isinstance(result, list) and len(result) > 0 else []\n",
    "    if not scores:\n",
    "        return \"Uncertain\"\n",
    "    \n",
    "    # Identify the emotion with the highest score.\n",
    "    best = max(scores, key=lambda x: x['score'])\n",
    "    # Return the detected emotion if confidence is at least 95%, else \"Uncertain\"\n",
    "    return best['label'] if best['score'] >= 0.95 else \"Uncertain\"\n",
    "\n",
    "# Apply the classification function on the 'statement' column\n",
    "df['predicted_emotion'] = df['statement'].apply(classify_emotion)\n",
    "\n",
    "# Save the resulting dataframe to a new CSV file.\n",
    "output_csv = \"emotion_output.csv\"\n",
    "df.to_csv(output_csv, index=False)\n",
    "\n",
    "print(\"Processing complete. The output has been saved to\", output_csv)\n"
   ]
  },
  {
   "cell_type": "code",
   "execution_count": 22,
   "id": "ea50c795-0453-439b-8cb5-2c7a49ef21e6",
   "metadata": {},
   "outputs": [
    {
     "name": "stdout",
     "output_type": "stream",
     "text": [
      "File renamed successfully!\n"
     ]
    }
   ],
   "source": [
    "import os\n",
    "\n",
    "# Rename the file\n",
    "os.rename(\"emotion_output.csv\", \"emotion_data.csv\")\n",
    "\n",
    "print(\"File renamed successfully!\")"
   ]
  }
 ],
 "metadata": {
  "kernelspec": {
   "display_name": "Python 3 (ipykernel)",
   "language": "python",
   "name": "python3"
  },
  "language_info": {
   "codemirror_mode": {
    "name": "ipython",
    "version": 3
   },
   "file_extension": ".py",
   "mimetype": "text/x-python",
   "name": "python",
   "nbconvert_exporter": "python",
   "pygments_lexer": "ipython3",
   "version": "3.12.4"
  }
 },
 "nbformat": 4,
 "nbformat_minor": 5
}
