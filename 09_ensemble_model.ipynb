{
 "cells": [
  {
   "cell_type": "markdown",
   "id": "9b56dcb4-83a4-4b46-be47-9dd3d68eabe1",
   "metadata": {},
   "source": [
    "# Ensemble Model Training and Evaluation"
   ]
  },
  {
   "cell_type": "code",
   "execution_count": 2,
   "id": "20a03ee7-9cb3-4199-94fe-ef757baa5814",
   "metadata": {},
   "outputs": [
    {
     "name": "stdout",
     "output_type": "stream",
     "text": [
      "Ensemble Model Accuracy: 0.7092\n",
      "Ensemble Model F1 Score: 0.5913\n",
      "\n",
      "Classification Report:\n",
      "              precision    recall  f1-score   support\n",
      "\n",
      "   Uncertain       0.71      1.00      0.83      6553\n",
      "       anger       0.00      0.00      0.00       167\n",
      "     disgust       0.00      0.00      0.00         9\n",
      "        fear       0.00      0.00      0.00       668\n",
      "         joy       0.00      0.00      0.00       232\n",
      "     neutral       0.00      0.00      0.00        12\n",
      "     sadness       0.34      0.01      0.01      1520\n",
      "    surprise       0.00      0.00      0.00        69\n",
      "\n",
      "    accuracy                           0.71      9230\n",
      "   macro avg       0.13      0.13      0.11      9230\n",
      "weighted avg       0.56      0.71      0.59      9230\n",
      "\n"
     ]
    },
    {
     "name": "stderr",
     "output_type": "stream",
     "text": [
      "C:\\Users\\annas\\anaconda3\\Lib\\site-packages\\sklearn\\metrics\\_classification.py:1509: UndefinedMetricWarning: Precision is ill-defined and being set to 0.0 in labels with no predicted samples. Use `zero_division` parameter to control this behavior.\n",
      "  _warn_prf(average, modifier, f\"{metric.capitalize()} is\", len(result))\n",
      "C:\\Users\\annas\\anaconda3\\Lib\\site-packages\\sklearn\\metrics\\_classification.py:1509: UndefinedMetricWarning: Precision is ill-defined and being set to 0.0 in labels with no predicted samples. Use `zero_division` parameter to control this behavior.\n",
      "  _warn_prf(average, modifier, f\"{metric.capitalize()} is\", len(result))\n",
      "C:\\Users\\annas\\anaconda3\\Lib\\site-packages\\sklearn\\metrics\\_classification.py:1509: UndefinedMetricWarning: Precision is ill-defined and being set to 0.0 in labels with no predicted samples. Use `zero_division` parameter to control this behavior.\n",
      "  _warn_prf(average, modifier, f\"{metric.capitalize()} is\", len(result))\n"
     ]
    }
   ],
   "source": [
    "# Import necessary libraries\n",
    "import pandas as pd\n",
    "import numpy as np\n",
    "from sklearn.model_selection import train_test_split\n",
    "from sklearn.preprocessing import StandardScaler, LabelEncoder\n",
    "from sklearn.ensemble import VotingClassifier\n",
    "from sklearn.linear_model import LogisticRegression\n",
    "from sklearn.svm import SVC\n",
    "from sklearn.ensemble import RandomForestClassifier\n",
    "from sklearn.metrics import accuracy_score, classification_report, f1_score\n",
    "\n",
    "# 1. Data Loading and Preparation\n",
    "data = pd.read_csv('emotion_data.csv')\n",
    "\n",
    "# Define the target variable and feature columns\n",
    "target_col = 'predicted_emotion'\n",
    "feature_cols = [\n",
    "    'sentiment_score', 'text_length', 'word_count', \n",
    "    'avg_word_length', 'stopword_count', \n",
    "    'first_person_pronoun_count', 'keyword_count'\n",
    "]\n",
    "\n",
    "# Select features (X) and target (y)\n",
    "X = data[feature_cols]\n",
    "y = data[target_col]\n",
    "\n",
    "# Encode the target variable if it's categorical\n",
    "label_encoder = LabelEncoder()\n",
    "y_encoded = label_encoder.fit_transform(y)\n",
    "\n",
    "# 2. Splitting and Scaling the Data\n",
    "X_train, X_test, y_train, y_test = train_test_split(X, y_encoded, test_size=0.2, random_state=42)\n",
    "\n",
    "scaler = StandardScaler()\n",
    "X_train_scaled = scaler.fit_transform(X_train)\n",
    "X_test_scaled = scaler.transform(X_test)\n",
    "\n",
    "# 3. Define Individual Models for the Ensemble\n",
    "clf1 = LogisticRegression(max_iter=1000, random_state=42)\n",
    "clf2 = SVC(probability=True, random_state=42)  # Enable probability estimates for soft voting\n",
    "clf3 = RandomForestClassifier(random_state=42)\n",
    "\n",
    "# 4. Build the Voting Ensemble (soft voting)\n",
    "ensemble_clf = VotingClassifier(\n",
    "    estimators=[('lr', clf1), ('svm', clf2), ('rf', clf3)],\n",
    "    voting='soft'\n",
    ")\n",
    "\n",
    "# Train the ensemble model\n",
    "ensemble_clf.fit(X_train_scaled, y_train)\n",
    "\n",
    "# 5. Evaluate the Ensemble Model\n",
    "y_pred = ensemble_clf.predict(X_test_scaled)\n",
    "accuracy = accuracy_score(y_test, y_pred)\n",
    "f1 = f1_score(y_test, y_pred, average='weighted')\n",
    "\n",
    "print(\"Ensemble Model Accuracy: {:.4f}\".format(accuracy))\n",
    "print(\"Ensemble Model F1 Score: {:.4f}\".format(f1))\n",
    "print(\"\\nClassification Report:\")\n",
    "print(classification_report(y_test, y_pred, target_names=label_encoder.classes_))"
   ]
  },
  {
   "cell_type": "markdown",
   "id": "eacd73db-3585-4c89-80d7-5e98698e0b13",
   "metadata": {},
   "source": [
    "The ensemble aimed to tackle class imbalance and improve emotion detection. While it reached 71% accuracy, a weighted F1 of 0.59 and macro F1 of 0.11 reveal heavy bias toward the \"Uncertain\" class, with minority classes scoring 0. Individual models and neural networks performed better (F1: 0.70–0.75), indicating the need for resampling or class weighting to refine the ensemble."
   ]
  }
 ],
 "metadata": {
  "kernelspec": {
   "display_name": "Python 3 (ipykernel)",
   "language": "python",
   "name": "python3"
  },
  "language_info": {
   "codemirror_mode": {
    "name": "ipython",
    "version": 3
   },
   "file_extension": ".py",
   "mimetype": "text/x-python",
   "name": "python",
   "nbconvert_exporter": "python",
   "pygments_lexer": "ipython3",
   "version": "3.12.4"
  }
 },
 "nbformat": 4,
 "nbformat_minor": 5
}
